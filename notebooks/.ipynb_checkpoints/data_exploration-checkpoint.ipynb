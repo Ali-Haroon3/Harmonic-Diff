{
 "cells": [
  {
   "cell_type": "code",
   "execution_count": null,
   "id": "a62a01a0-72cd-4949-8a56-042727f3a229",
   "metadata": {},
   "outputs": [],
   "source": [
    "import librosa\n",
    "import numpy as np\n",
    "import matplotlib.pyplot as plt\n",
    "\n",
    "# Load an example song\n",
    "file_path = 'path/to/song.mp3'\n",
    "y, sr = librosa.load(file_path)\n",
    "\n",
    "# Plot the waveform\n",
    "plt.figure(figsize=(14, 5))\n",
    "librosa.display.waveshow(y, sr=sr)\n",
    "plt.title('Waveform of the song')\n",
    "plt.show()\n",
    "\n",
    "# Compute the derivative\n",
    "derivative = np.diff(y)\n",
    "\n",
    "# Plot the derivative\n",
    "plt.figure(figsize=(14, 5))\n",
    "plt.plot(derivative)\n",
    "plt.title('Derivative of the waveform')\n",
    "plt.show()\n"
   ]
  }
 ],
 "metadata": {
  "kernelspec": {
   "display_name": "Python 3 (ipykernel)",
   "language": "python",
   "name": "python3"
  },
  "language_info": {
   "codemirror_mode": {
    "name": "ipython",
    "version": 3
   },
   "file_extension": ".py",
   "mimetype": "text/x-python",
   "name": "python",
   "nbconvert_exporter": "python",
   "pygments_lexer": "ipython3",
   "version": "3.10.8"
  }
 },
 "nbformat": 4,
 "nbformat_minor": 5
}
