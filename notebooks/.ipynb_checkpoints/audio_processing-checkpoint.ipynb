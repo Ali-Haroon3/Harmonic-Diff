{
 "cells": [
  {
   "cell_type": "code",
   "execution_count": null,
   "id": "73c45c24-4689-447a-bf1b-36ed889ad995",
   "metadata": {},
   "outputs": [],
   "source": [
    "import librosa\n",
    "import numpy as np\n",
    "import soundfile as sf\n",
    "from utils.audio_processing import process_audio\n",
    "from utils.derivative import calculate_derivative\n",
    "\n",
    "# Load and process the audio\n",
    "file_path = 'path/to/song.mp3'\n",
    "derivative, sr = process_audio(file_path)\n",
    "\n",
    "# Save the derivative as an audio file\n",
    "output_path = 'output_song.wav'\n",
    "calculate_derivative(derivative, sr, output_path)\n"
   ]
  }
 ],
 "metadata": {
  "kernelspec": {
   "display_name": "Python 3 (ipykernel)",
   "language": "python",
   "name": "python3"
  },
  "language_info": {
   "codemirror_mode": {
    "name": "ipython",
    "version": 3
   },
   "file_extension": ".py",
   "mimetype": "text/x-python",
   "name": "python",
   "nbconvert_exporter": "python",
   "pygments_lexer": "ipython3",
   "version": "3.10.8"
  }
 },
 "nbformat": 4,
 "nbformat_minor": 5
}
